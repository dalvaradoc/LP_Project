{
  "nbformat": 4,
  "nbformat_minor": 0,
  "metadata": {
    "colab": {
      "provenance": []
    },
    "kernelspec": {
      "name": "python3",
      "display_name": "Python 3"
    },
    "language_info": {
      "name": "python"
    }
  },
  "cells": [
    {
      "cell_type": "markdown",
      "source": [
        "\n",
        "\n",
        "```\n",
        "public class MultiplyTwoNumbers {\n",
        "\n",
        "    public static void main(String[] args) {\n",
        "\n",
        "        float first = 1.5f;\n",
        "        float second = 2.0f;\n",
        "\n",
        "        float product = first * second;\n",
        "\n",
        "        if (first < second){\n",
        "            System.out.println(\"The second is bigger\");\n",
        "        }\n",
        "\n",
        "        System.out.println(\"The product is: \" + product);\n",
        "\n",
        "    }\n",
        "}\n",
        "```\n",
        "\n"
      ],
      "metadata": {
        "id": "HQAJqSoryd7O"
      }
    },
    {
      "cell_type": "code",
      "source": [
        "class MultiplyTwoNumbers:\n",
        "  def main(self,):\n",
        "    first = 1.5\n",
        "    second = 2.0\n",
        "    product = first * second\n",
        "    if first < second:\n",
        "      print(\"The second is bigger\")\n",
        "\n",
        "\n",
        "\n",
        "    print(str(\"The product is: \") + str(product))\n",
        "\n",
        "main = MultiplyTwoNumbers()\n",
        "main.main()"
      ],
      "metadata": {
        "colab": {
          "base_uri": "https://localhost:8080/"
        },
        "id": "S7poCjyuEznR",
        "outputId": "7c889480-a834-4c11-b31a-797d7da38356"
      },
      "execution_count": null,
      "outputs": [
        {
          "output_type": "stream",
          "name": "stdout",
          "text": [
            "The second is bigger\n",
            "The product is: 3.0\n"
          ]
        }
      ]
    },
    {
      "cell_type": "markdown",
      "source": [
        "\n",
        "\n",
        "```\n",
        "\n",
        "import java.util.Scanner;\n",
        "\n",
        "public class HelloWorld {\n",
        "\n",
        "    public static void main(String[] args) {\n",
        "\n",
        "        Scanner reader = new Scanner(System.in);\n",
        "        System.out.print(\"Enter a number: \");\n",
        "\n",
        "        int number = reader.nextInt();\n",
        "\n",
        "        System.out.println(\"You entered: \" + number);\n",
        "\n",
        "        if (number > 3){\n",
        "          System.out.println(\"You entered: \" + number);\n",
        "        }\n",
        "    }\n",
        "}\n",
        "\n",
        "\n",
        "```\n",
        "\n"
      ],
      "metadata": {
        "id": "Jltg1_Ocid3H"
      }
    },
    {
      "cell_type": "code",
      "source": [
        "import sys\n",
        "class HelloWorld:\n",
        "  def main(self,):\n",
        "    \n",
        "    print(\"Enter a number: \")\n",
        "    number = int(input())\n",
        "    print(str(\"You entered: \") + str(number))\n",
        "    if number > 3:\n",
        "      print(str(\"You entered: \") + str(number))\n",
        "\n",
        "\n",
        "\n",
        "\n",
        "main = HelloWorld()\n",
        "main.main()"
      ],
      "metadata": {
        "colab": {
          "base_uri": "https://localhost:8080/"
        },
        "id": "kvNj5EGXkEl-",
        "outputId": "6b64fa26-78e5-4203-fcbc-0dce9f1d3340"
      },
      "execution_count": null,
      "outputs": [
        {
          "output_type": "stream",
          "name": "stdout",
          "text": [
            "Enter a number: \n",
            "123213\n",
            "You entered: 123213\n",
            "You entered: 123213\n"
          ]
        }
      ]
    },
    {
      "cell_type": "markdown",
      "source": [
        "\n",
        "\n",
        "```\n",
        "import java.util.Scanner;\n",
        "\n",
        "public class EvenOdd {\n",
        "\n",
        "    public static void main(String[] args) {\n",
        "\n",
        "        Scanner reader = new Scanner(System.in);\n",
        "\n",
        "        System.out.print(\"Enter a number: \");\n",
        "        int num = reader.nextInt();\n",
        "\n",
        "        if(num % 2 == 0){\n",
        "            System.out.println(num + \" is even\");\n",
        "        } else {\n",
        "            System.out.println(num + \" is odd\");\n",
        "        }\n",
        "    }\n",
        "}\n",
        "```\n",
        "\n"
      ],
      "metadata": {
        "id": "Uppgnazsxue-"
      }
    },
    {
      "cell_type": "code",
      "source": [
        "class EvenOdd:\n",
        "  def main(self,):\n",
        "    \n",
        "    print(\"Enter a number: \")\n",
        "    num = int(input())\n",
        "    if num % 2 == 0:\n",
        "      print(str(num) + str(\" is even\"))\n",
        "\n",
        "\n",
        "    else:\n",
        "      print(str(num) + str(\" is odd\"))\n",
        "\n",
        "\n",
        "\n",
        "\n",
        "main = EvenOdd()\n",
        "main.main()"
      ],
      "metadata": {
        "colab": {
          "base_uri": "https://localhost:8080/"
        },
        "id": "0Cvqy_PIxLdl",
        "outputId": "b4fb9cca-b519-41dd-b0f3-c48eb0230a6a"
      },
      "execution_count": null,
      "outputs": [
        {
          "output_type": "stream",
          "name": "stdout",
          "text": [
            "Enter a number: \n",
            "5102\n",
            "5102 is even\n"
          ]
        }
      ]
    },
    {
      "cell_type": "markdown",
      "source": [
        "\n",
        "\n",
        "```\n",
        "// Program to display numbers from 1 to 5\n",
        "\n",
        "class Main {\n",
        "  public static void main(String[] args) {\n",
        "\n",
        "    // declare variables\n",
        "    int i = 1, n = 5;\n",
        "\n",
        "    // while loop from 1 to 5\n",
        "    while(i <= n) {\n",
        "      System.out.println(i);\n",
        "      i++;\n",
        "    }\n",
        "  }\n",
        "}\n",
        "```\n",
        "\n"
      ],
      "metadata": {
        "id": "UBJj_J96y0Uj"
      }
    },
    {
      "cell_type": "code",
      "source": [
        "class Main:\n",
        "  def main(self,):\n",
        "    i = 1\n",
        "    n = 5\n",
        "    while i <= n:\n",
        "      print(i)\n",
        "      i += 1\n",
        "\n",
        "\n",
        "\n",
        "\n",
        "main = Main()\n",
        "main.main()"
      ],
      "metadata": {
        "colab": {
          "base_uri": "https://localhost:8080/"
        },
        "id": "zIDm0sjry24U",
        "outputId": "fc516b9c-51ab-4633-9c33-c277fbf64af7"
      },
      "execution_count": null,
      "outputs": [
        {
          "output_type": "stream",
          "name": "stdout",
          "text": [
            "1\n",
            "2\n",
            "3\n",
            "4\n",
            "5\n"
          ]
        }
      ]
    },
    {
      "cell_type": "markdown",
      "source": [
        "\n",
        "\n",
        "```\n",
        "class Main {\n",
        "  public static void main(String[] args) {\n",
        "    int i = 10;\n",
        "    do {\n",
        "        System.out.println(\"the value of i: \" + i);\n",
        "        i++;\n",
        "    }\n",
        "    while( i < 20 );\n",
        "  }\n",
        "}\n",
        "```\n",
        "\n"
      ],
      "metadata": {
        "id": "lpooUuBD7k_I"
      }
    },
    {
      "cell_type": "code",
      "source": [
        "class Main:\n",
        "  def main(self,):\n",
        "    i = 10\n",
        "    while True:\n",
        "      print(str(\"the value of i: \") + str(i))\n",
        "      i += 1\n",
        "\n",
        "\n",
        "      if not i < 20:\n",
        "        break\n",
        "\n",
        "\n",
        "main = Main()\n",
        "main.main()"
      ],
      "metadata": {
        "colab": {
          "base_uri": "https://localhost:8080/"
        },
        "id": "OrZZCAk51u8q",
        "outputId": "c8e7f398-b6b6-4d1a-f2f1-0759b6e28ac6"
      },
      "execution_count": null,
      "outputs": [
        {
          "output_type": "stream",
          "name": "stdout",
          "text": [
            "the value of i: 10\n",
            "the value of i: 11\n",
            "the value of i: 12\n",
            "the value of i: 13\n",
            "the value of i: 14\n",
            "the value of i: 15\n",
            "the value of i: 16\n",
            "the value of i: 17\n",
            "the value of i: 18\n",
            "the value of i: 19\n"
          ]
        }
      ]
    },
    {
      "cell_type": "markdown",
      "source": [
        "\n",
        "\n",
        "```\n",
        "class Factorial {\n",
        "\n",
        "    static int factorial( int n ) {\n",
        "        if (n != 0) { // termination condition\n",
        "            return n * factorial(n-1); // recursive call\n",
        "        } else {\n",
        "            return 1;\n",
        "        }\n",
        "    }\n",
        "\n",
        "    public static void main(String[] args) {\n",
        "        int number = 4, result;\n",
        "        result = factorial(number);\n",
        "        System.out.println(number + \" factorial = \" + result);\n",
        "    }\n",
        "}\n",
        "```\n",
        "\n"
      ],
      "metadata": {
        "id": "lwwb9CbvMJ0Y"
      }
    },
    {
      "cell_type": "code",
      "source": [
        "class Factorial:\n",
        "  def factorial(self,n):\n",
        "    if n != 0:\n",
        "      return n * self.factorial(n - 1)\n",
        "\n",
        "\n",
        "    else:\n",
        "      return 1\n",
        "\n",
        "\n",
        "\n",
        "\n",
        "  def main(self,):\n",
        "    number = 4\n",
        "    result = 0\n",
        "    result = self.factorial(number)\n",
        "    print(str(str(number) + str(\" factorial = \")) + str(result))\n",
        "\n",
        "main = Factorial()\n",
        "main.main()"
      ],
      "metadata": {
        "colab": {
          "base_uri": "https://localhost:8080/"
        },
        "id": "TXpRkCmDFvBj",
        "outputId": "4410a299-00cc-4fe5-83ff-1b5003d49f6b"
      },
      "execution_count": null,
      "outputs": [
        {
          "output_type": "stream",
          "name": "stdout",
          "text": [
            "4 factorial = 24\n"
          ]
        }
      ]
    },
    {
      "cell_type": "markdown",
      "source": [
        "\n",
        "\n",
        "```\n",
        "class Animal {\n",
        "\n",
        "  // field and method of the parent class\n",
        "  String name;\n",
        "  public void eat() {\n",
        "    System.out.println(\"I can eat\");\n",
        "  }\n",
        "}\n",
        "\n",
        "// inherit from Animal\n",
        "class Dog extends Animal {\n",
        "\n",
        "  // new method in subclass\n",
        "  public void display() {\n",
        "    System.out.println(\"My name is \" + name);\n",
        "  }\n",
        "}\n",
        "\n",
        "class Main {\n",
        "  public static void main(String[] args) {\n",
        "\n",
        "    // create an object of the subclass\n",
        "    Dog labrador = new Dog();\n",
        "\n",
        "    // access field of superclass\n",
        "    labrador.name = \"Rohu\";\n",
        "    labrador.display();\n",
        "\n",
        "    // call method of superclass\n",
        "    // using object of subclass\n",
        "    labrador.eat();\n",
        "\n",
        "  }\n",
        "}\n",
        "```\n",
        "\n"
      ],
      "metadata": {
        "id": "GlbHvygGeNZd"
      }
    },
    {
      "cell_type": "code",
      "source": [
        "class Animal:\n",
        "  \n",
        "  def eat(self):\n",
        "    print(\"I can eat\")\n",
        "\n",
        "class Dog(Animal):\n",
        "  def display(self):\n",
        "    print(str(\"My name is \") + str(self.name))\n",
        "\n",
        "class Main:\n",
        "  def main(self,):\n",
        "    labrador = Dog()\n",
        "    labrador.name = \"Rohu\"\n",
        "    labrador.display()\n",
        "    labrador.eat()\n",
        "\n",
        "main = Main()\n",
        "main.main()"
      ],
      "metadata": {
        "colab": {
          "base_uri": "https://localhost:8080/"
        },
        "id": "OqZOXkdRTtGa",
        "outputId": "38807d53-a606-4e42-f800-e3d0fdd9e1af"
      },
      "execution_count": null,
      "outputs": [
        {
          "output_type": "stream",
          "name": "stdout",
          "text": [
            "My name is Rohu\n",
            "I can eat\n"
          ]
        }
      ]
    }
  ]
}